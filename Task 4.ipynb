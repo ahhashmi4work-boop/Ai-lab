def sort_sentence(sentence: str) -> str:
    words = sentence.split()
    words.sort(key=str.lower)
    return " ".join(words)

if __name__ == "__main__":
    text = "MY NAME IS Ali hassan"
    print("Original Sentence:", text)
    print("Sorted Sentence:", sort_sentence(text))
